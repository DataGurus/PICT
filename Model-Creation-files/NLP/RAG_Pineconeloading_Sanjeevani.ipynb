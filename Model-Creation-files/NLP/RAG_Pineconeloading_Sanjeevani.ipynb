{
  "nbformat": 4,
  "nbformat_minor": 0,
  "metadata": {
    "colab": {
      "provenance": []
    },
    "kernelspec": {
      "name": "python3",
      "display_name": "Python 3"
    },
    "language_info": {
      "name": "python"
    }
  },
  "cells": [
    {
      "cell_type": "code",
      "execution_count": null,
      "metadata": {
        "id": "q6G9D1ufao6D"
      },
      "outputs": [],
      "source": [
        "!pip install langchain pinecone-client sentence-transformers\n",
        "!pip install langchain-pinecone\n",
        "!pip install -U langchain-community"
      ]
    },
    {
      "cell_type": "code",
      "source": [
        "import os\n",
        "os.environ[\"PINECONE_API_KEY\"] = \"\"    #your_api_key"
      ],
      "metadata": {
        "id": "4E7S7qSPaqMe"
      },
      "execution_count": null,
      "outputs": []
    },
    {
      "cell_type": "markdown",
      "source": [
        "Repeat this for all organs (kidney, eye, brain, chest, liver)"
      ],
      "metadata": {
        "id": "e5QPXxOcb-2V"
      }
    },
    {
      "cell_type": "code",
      "source": [
        "from pinecone import Pinecone\n",
        "from langchain_pinecone import PineconeVectorStore(\n",
        "from langchain.embeddings import HuggingFaceEmbeddings\n",
        "embedding_model = HuggingFaceEmbeddings(model_name=\"abhinand/MedEmbed-large-v0.1\")\n",
        "\n",
        "pc = Pinecone(api_key=os.environ[\"PINECONE_API_KEY\"])\n",
        "index = pc.Index(\"kidney\")      #repeat this for all organs kidney, eye, brain, chest, liver)\n",
        "index_name = \"kidney\"\n",
        "vectorstore = PineconeVectorStore(index_name=index_name, embedding=embedding_model)"
      ],
      "metadata": {
        "id": "3ogszM4Ra_yC"
      },
      "execution_count": null,
      "outputs": []
    },
    {
      "cell_type": "code",
      "source": [
        "import pandas as pd\n",
        "import numpy as np\n",
        "\n",
        "# Load your dataset\n",
        "df = pd.read_csv(\"/content/augmented_kidney_data.csv\")          #put your own file path\n",
        "\n",
        "# Replace NaN with an empty string in the relevant columns\n",
        "df.fillna(\"\", inplace=True)\n",
        "\n",
        "# Prepare data for embedding\n",
        "for _, row in df.iterrows():\n",
        "    metadata = {\n",
        "        \"treatment_recommendations\": str(row[\"Treatment Recommendations\"]) or \"No data\",\n",
        "        \"possible_causes\": str(row[\"Possible Causes\"]) or \"No data\",\n",
        "        \"prescriptions\": str(row[\"Prescriptions\"]) or \"No data\",\n",
        "        \"blood_tests\": str(row[\"Blood Tests\"]) or \"No data\",\n",
        "    }\n",
        "    text = f\"Age Range: {row['Age Range']}, Clinical History: {row['clinical_history_hybrid']}, Disease: {row['disease_hybrid']}, Features: {row['Features']}\"\n",
        "\n",
        "    # Validate text and metadata before uploading\n",
        "    if all(isinstance(value, str) and value.strip() != \"\" for value in metadata.values()):\n",
        "        # Upsert embedding with metadata\n",
        "        vectorstore.add_texts([text], metadatas=[metadata], ids=[str(row.name)])\n",
        "    else:\n",
        "        print(f\"Skipping invalid row: {row.name}\")\n",
        "\n",
        "print(\"Data upload complete!\")\n"
      ],
      "metadata": {
        "id": "8iZVs8nubbAn"
      },
      "execution_count": null,
      "outputs": []
    },
    {
      "cell_type": "code",
      "source": [
        "# Example queryry: Type 2 Diabetes, Hypertension, Disease: Non-Alcoholic Fatty Liver Disease\"\n",
        "\n",
        "# Perform similarity search\n",
        "results = vectorstore.similarity_search(query, k=5)\n",
        "\n",
        "# Display results\n",
        "for result in results:\n",
        "    print(f\"Text: {result.page_content}\")\n",
        "    print(f\"Metadata: {result.metadata}\")\n"
      ],
      "metadata": {
        "id": "KayNgLBTb1o4"
      },
      "execution_count": null,
      "outputs": []
    }
  ]
}